{
 "cells": [
  {
   "cell_type": "code",
   "execution_count": 1,
   "id": "e942afb1",
   "metadata": {},
   "outputs": [
    {
     "name": "stderr",
     "output_type": "stream",
     "text": [
      "Sorting thesaurus alphabetically\n",
      "  File : data/thesaurus/descriptors.the.txt\n",
      "  Sorting process completed successfully\n",
      "\n",
      "Printing thesaurus header\n",
      "  File : data/thesaurus/descriptors.the.txt\n",
      "\n",
      "    ACADEMIA\n",
      "      ACADEMIA\n",
      "    ACADEMICS\n",
      "      ACADEMICS\n",
      "    ACADEMIC_OBSERVERS\n",
      "      ACADEMIC_OBSERVERS\n",
      "    ACADEMIC_RESEARCH\n",
      "      ACADEMIC_RESEARCH\n",
      "    ACCELERATE_ACCESS\n",
      "      ACCELERATE_ACCESS\n",
      "    ACCEPTANCE_MODELS\n",
      "      ACCEPTANCE_MODELS\n",
      "    ACCESS\n",
      "      ACCESS\n",
      "    ACCESS_LOANS\n",
      "      ACCESS_LOANS\n",
      "\n"
     ]
    }
   ],
   "source": [
    "from techminer2.thesaurus.descriptors import SortByAlphabet\n",
    "\n",
    "SortByAlphabet().where_root_directory_is(\"./\").run()"
   ]
  }
 ],
 "metadata": {
  "kernelspec": {
   "display_name": ".venv",
   "language": "python",
   "name": "python3"
  },
  "language_info": {
   "codemirror_mode": {
    "name": "ipython",
    "version": 3
   },
   "file_extension": ".py",
   "mimetype": "text/x-python",
   "name": "python",
   "nbconvert_exporter": "python",
   "pygments_lexer": "ipython3",
   "version": "3.9.6"
  }
 },
 "nbformat": 4,
 "nbformat_minor": 5
}
